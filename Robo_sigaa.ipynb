{
  "nbformat": 4,
  "nbformat_minor": 0,
  "metadata": {
    "colab": {
      "name": "Robo_sigaa",
      "provenance": []
    },
    "kernelspec": {
      "name": "python3",
      "display_name": "Python 3"
    },
    "language_info": {
      "name": "python"
    }
  },
  "cells": [
    {
      "cell_type": "code",
      "metadata": {
        "colab": {
          "base_uri": "https://localhost:8080/"
        },
        "id": "BjF_OipdGcJP",
        "outputId": "c1f6135e-a396-43e9-fb00-551cc8d1167c"
      },
      "source": [
        "!pip install kora -q\n",
        "from kora.selenium import wd\n",
        "from selenium.webdriver.common.keys import Keys\n",
        "import time\n",
        "import requests\n",
        "from bs4 import BeautifulSoup"
      ],
      "execution_count": null,
      "outputs": [
        {
          "output_type": "stream",
          "text": [
            "\u001b[?25l\r\u001b[K     |█████▊                          | 10 kB 25.3 MB/s eta 0:00:01\r\u001b[K     |███████████▍                    | 20 kB 32.5 MB/s eta 0:00:01\r\u001b[K     |█████████████████               | 30 kB 37.9 MB/s eta 0:00:01\r\u001b[K     |██████████████████████▊         | 40 kB 37.7 MB/s eta 0:00:01\r\u001b[K     |████████████████████████████▍   | 51 kB 38.5 MB/s eta 0:00:01\r\u001b[K     |████████████████████████████████| 57 kB 5.6 MB/s \n",
            "\u001b[?25h\u001b[?25l\r\u001b[K     |█████▉                          | 10 kB 29.4 MB/s eta 0:00:01\r\u001b[K     |███████████▊                    | 20 kB 39.0 MB/s eta 0:00:01\r\u001b[K     |█████████████████▌              | 30 kB 45.3 MB/s eta 0:00:01\r\u001b[K     |███████████████████████▍        | 40 kB 48.4 MB/s eta 0:00:01\r\u001b[K     |█████████████████████████████▎  | 51 kB 52.3 MB/s eta 0:00:01\r\u001b[K     |████████████████████████████████| 56 kB 4.7 MB/s \n",
            "\u001b[?25h"
          ],
          "name": "stdout"
        }
      ]
    },
    {
      "cell_type": "code",
      "metadata": {
        "id": "4PoVmdDMGj6K"
      },
      "source": [
        "class robo_sigaa:\n",
        "  def logar(login,senha):\n",
        "    login = login\n",
        "    senha = senha\n",
        "    wd.get('https://sigaa.ufrrj.br/sigaa/verTelaLogin.do')\n",
        "    campo_nome = wd.find_element_by_name('user.login')\n",
        "    campo_senha = wd.find_element_by_name('user.senha')\n",
        "    campo_nome.send_keys(login)\n",
        "    time.sleep(1)\n",
        "    campo_senha.send_keys(senha)\n",
        "    time.sleep(1)\n",
        "    campo_senha.send_keys(Keys.ENTER)\n",
        "    time.sleep(3)\n",
        "\n",
        "  def atestado_matricula():\n",
        "    try:\n",
        "      wd.get('https://sigaa.ufrrj.br/sigaa/portais/discente/discente.jsf')\n",
        "    except:\n",
        "      print('Erro ao logar!\\nPor favor, verifique seu login e senha :)')\n",
        "    wd.get('https://sigaa.ufrrj.br/sigaa/portais/discente/discente.jsf')\n",
        "    ensino = wd.find_elements_by_class_name('ThemeOfficeMainFolderText')\n",
        "    ensino[0].click()\n",
        "    time.sleep(2)\n",
        "    ensino_opcoes = wd.find_elements_by_class_name('ThemeOfficeMenuItem')\n",
        "    ensino_opcoes[2].click()\n",
        "    relatorio_atestado = wd.find_element_by_id('relatorio-container')\n",
        "    altura_original =  relatorio_atestado.size['height']\n",
        "    largura_original = relatorio_atestado.size['width']\n",
        "    altura_total = altura_original*1.1\n",
        "    largura_total = largura_original*1.2\n",
        "\n",
        "    wd.set_window_size(largura_total, altura_total)\n",
        "    wd.save_screenshot('atestado_matricula.png')\n",
        "    wd.set_window_size(largura_original, altura_original)\n",
        "\n",
        "  def minhas_notas():\n",
        "    wd.get('https://sigaa.ufrrj.br/sigaa/portais/discente/discente.jsf')\n",
        "    ensino = wd.find_elements_by_class_name('ThemeOfficeMainFolderText')\n",
        "    ensino[0].click()\n",
        "    time.sleep(2)\n",
        "\n",
        "    ensino_opcoes = wd.find_elements_by_class_name('ThemeOfficeMenuItem')\n",
        "    ensino_opcoes[0].click()\n",
        "\n",
        "    relatorio_notas = wd.find_element_by_id('relatorio-paisagem-container')\n",
        "\n",
        "    altura_original =  relatorio_notas.size['height']\n",
        "    largura_original = relatorio_notas.size['width']\n",
        "    altura_total = altura_original*1.1\n",
        "    largura_total = largura_original*1.2\n",
        "\n",
        "    wd.set_window_size(largura_total, altura_total)\n",
        "    wd.save_screenshot('minhas_notas.png')\n",
        "    wd.set_window_size(largura_original, altura_original)\n",
        "\n",
        "  def indices_academicos():\n",
        "    wd.get('https://sigaa.ufrrj.br/sigaa/portais/discente/discente.jsf')\n",
        "    ensino = wd.find_elements_by_class_name('ThemeOfficeMainFolderText')\n",
        "    ensino[0].click()\n",
        "    time.sleep(2)\n",
        "\n",
        "    ensino_opcoes = wd.find_elements_by_class_name('ThemeOfficeMenuItem')\n",
        "    ensino_opcoes[1].click()\n",
        "\n",
        "    relatorio_indice = wd.find_element_by_id('relatorio-container')\n",
        "\n",
        "    altura_original =  relatorio_indice.size['height']\n",
        "    largura_original = relatorio_indice.size['width']\n",
        "    altura_total = altura_original*1.1\n",
        "    largura_total = largura_original*1.2\n",
        "\n",
        "    wd.set_window_size(largura_total, altura_total)\n",
        "    wd.save_screenshot('indices_academicos.png')\n",
        "    wd.set_window_size(largura_original, altura_original)\n",
        "\n",
        "  def historico():\n",
        "    wd.get('https://sigaa.ufrrj.br/sigaa/portais/discente/discente.jsf')\n",
        "    ensino = wd.find_elements_by_class_name('ThemeOfficeMainFolderText')\n",
        "    ensino[0].click()\n",
        "    time.sleep(2)\n",
        "\n",
        "    ensino_opcoes = wd.find_elements_by_class_name('ThemeOfficeMenuItem')\n",
        "    ensino_opcoes[4].click()\n",
        "\n",
        "  def declaracao():\n",
        "    wd.get('https://sigaa.ufrrj.br/sigaa/portais/discente/discente.jsf')\n",
        "    ensino = wd.find_elements_by_class_name('ThemeOfficeMainFolderText')\n",
        "    ensino[0].click()\n",
        "    time.sleep(2)\n",
        "\n",
        "    ensino_opcoes = wd.find_elements_by_class_name('ThemeOfficeMenuItem')\n",
        "    ensino_opcoes[5].click()"
      ],
      "execution_count": null,
      "outputs": []
    },
    {
      "cell_type": "code",
      "metadata": {
        "colab": {
          "base_uri": "https://localhost:8080/"
        },
        "id": "eSlCWZg_GlsW",
        "outputId": "b5495040-ea0f-4479-805d-74449f249b73"
      },
      "source": [
        "robo_sigaa.logar('meu_login', 'minha_senha')\n",
        "robo_sigaa.atestado_matricula()\n",
        "robo_sigaa.minhas_notas()\n",
        "robo_sigaa.indices_academicos()\n",
        "robo_sigaa.historico()\n",
        "robo_sigaa.declaracao()"
      ],
      "execution_count": null,
      "outputs": [
        {
          "output_type": "stream",
          "text": [
            "Erro!\n"
          ],
          "name": "stdout"
        }
      ]
    }
  ]
}